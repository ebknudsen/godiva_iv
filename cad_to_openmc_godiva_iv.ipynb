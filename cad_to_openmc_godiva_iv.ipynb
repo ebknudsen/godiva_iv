{
  "cells": [
    {
      "cell_type": "markdown",
      "metadata": {
        "id": "view-in-github",
        "colab_type": "text"
      },
      "source": [
        "<a href=\"https://colab.research.google.com/github/ebknudsen/godiva_iv/blob/notebook/cad_to_openmc_godiva_iv.ipynb\" target=\"_parent\"><img src=\"https://colab.research.google.com/assets/colab-badge.svg\" alt=\"Open In Colab\"/></a>"
      ]
    },
    {
      "cell_type": "code",
      "source": [
        "!pip install condacolab\n",
        "import condacolab\n",
        "condacolab.install()"
      ],
      "metadata": {
        "id": "E-51VN8Da9L-"
      },
      "execution_count": null,
      "outputs": []
    },
    {
      "cell_type": "code",
      "source": [
        "import condacolab\n",
        "condacolab.check()"
      ],
      "metadata": {
        "id": "RcY26cVWbRoz"
      },
      "execution_count": null,
      "outputs": []
    },
    {
      "cell_type": "code",
      "source": [
        "!conda install -y cad-to-openmc\n",
        "!conda install openmc=0.15.0=dagmc_*"
      ],
      "metadata": {
        "colab": {
          "base_uri": "https://localhost:8080/"
        },
        "id": "NqQi5m4obWq7",
        "outputId": "70c5376c-60f7-4ab9-dc51-da282f2723ac"
      },
      "execution_count": 2,
      "outputs": [
        {
          "output_type": "stream",
          "name": "stdout",
          "text": [
            "/bin/bash: line 1: conda: command not found\n"
          ]
        }
      ]
    },
    {
      "cell_type": "markdown",
      "source": [
        "You should now have a functioning conda-environment from which you can run cad-to-openmc and OpenMC. This is done by importing the python module <code>CAD_to_OpenMC.assembly</code>."
      ],
      "metadata": {
        "id": "xqeGhUskbb6y"
      }
    },
    {
      "cell_type": "code",
      "source": [
        "import CAD_to_OpenMC.assembly as ab"
      ],
      "metadata": {
        "colab": {
          "base_uri": "https://localhost:8080/",
          "height": 336
        },
        "collapsed": true,
        "id": "6jA30QjbbbWI",
        "outputId": "e7270048-9467-4c3d-88e3-cc4256bcc182"
      },
      "execution_count": 3,
      "outputs": [
        {
          "output_type": "error",
          "ename": "ModuleNotFoundError",
          "evalue": "No module named 'CAD_to_OpenMC'",
          "traceback": [
            "\u001b[0;31m---------------------------------------------------------------------------\u001b[0m",
            "\u001b[0;31mModuleNotFoundError\u001b[0m                       Traceback (most recent call last)",
            "\u001b[0;32m<ipython-input-3-f631c077a339>\u001b[0m in \u001b[0;36m<cell line: 0>\u001b[0;34m()\u001b[0m\n\u001b[0;32m----> 1\u001b[0;31m \u001b[0;32mimport\u001b[0m \u001b[0mCAD_to_OpenMC\u001b[0m\u001b[0;34m.\u001b[0m\u001b[0massembly\u001b[0m \u001b[0;32mas\u001b[0m \u001b[0mab\u001b[0m\u001b[0;34m\u001b[0m\u001b[0;34m\u001b[0m\u001b[0m\n\u001b[0m\u001b[1;32m      2\u001b[0m \u001b[0mburst_rod\u001b[0m \u001b[0;34m=\u001b[0m \u001b[0mab\u001b[0m\u001b[0;34m.\u001b[0m\u001b[0mAssembly\u001b[0m\u001b[0;34m(\u001b[0m\u001b[0;34m[\u001b[0m\u001b[0;34m''\u001b[0m\u001b[0;34m]\u001b[0m\u001b[0;34m)\u001b[0m\u001b[0;34m\u001b[0m\u001b[0;34m\u001b[0m\u001b[0m\n",
            "\u001b[0;31mModuleNotFoundError\u001b[0m: No module named 'CAD_to_OpenMC'",
            "",
            "\u001b[0;31m---------------------------------------------------------------------------\u001b[0;32m\nNOTE: If your import is failing due to a missing package, you can\nmanually install dependencies using either !pip or !apt.\n\nTo view examples of installing some common dependencies, click the\n\"Open Examples\" button below.\n\u001b[0;31m---------------------------------------------------------------------------\u001b[0m\n"
          ],
          "errorDetails": {
            "actions": [
              {
                "action": "open_url",
                "actionText": "Open Examples",
                "url": "/notebooks/snippets/importing_libraries.ipynb"
              }
            ]
          }
        }
      ]
    },
    {
      "cell_type": "markdown",
      "source": [
        "To get access to the Godiva_IV model we may simply clone a github repository where step-files containing both a simplifed version as well as a more detailed model of the Godiva IV device as described in the report \"cite:Godiva_IV\".\n",
        "\n",
        "There are three step-files associated with each of the reactor models. Namely the reactor core, control rod, and burst rod. There are two control rods and a single burst rod, set in a 60 deg. symmetric pattern around the vertical axis through the reactor, center.\n",
        "\n",
        "In the reactor experiments the control rods were used to set the overall working point of the reactor, and then the burst rod was used to reach criticality in short timespans, \"bursts\"."
      ],
      "metadata": {
        "id": "Bf74KPEGcpZG"
      }
    },
    {
      "cell_type": "code",
      "source": [
        " #clone the godiva repo to get access to the step-files.\n",
        " !git clone https://www.github.com/ebknudsen/godiva_iv"
      ],
      "metadata": {
        "colab": {
          "base_uri": "https://localhost:8080/"
        },
        "id": "ki7xBB2VcdQA",
        "outputId": "a4306756-3988-4454-81e7-b8b447398feb"
      },
      "execution_count": 5,
      "outputs": [
        {
          "output_type": "stream",
          "name": "stdout",
          "text": [
            "Cloning into 'godiva_iv'...\n",
            "fatal: could not read Username for 'https://github.com': No such device or address\n"
          ]
        }
      ]
    },
    {
      "cell_type": "code",
      "source": [],
      "metadata": {
        "id": "74vuwL_gcmUv"
      },
      "execution_count": 4,
      "outputs": []
    }
  ],
  "metadata": {
    "colab": {
      "provenance": [],
      "include_colab_link": true
    },
    "kernelspec": {
      "display_name": "Python 3",
      "name": "python3"
    }
  },
  "nbformat": 4,
  "nbformat_minor": 0
}