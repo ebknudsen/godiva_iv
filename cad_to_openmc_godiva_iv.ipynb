{
  "cells": [
    {
      "cell_type": "markdown",
      "metadata": {
        "id": "view-in-github",
        "colab_type": "text"
      },
      "source": [
        "<a href=\"https://colab.research.google.com/github/ebknudsen/godiva_iv/blob/notebook/cad_to_openmc_godiva_iv.ipynb\" target=\"_parent\"><img src=\"https://colab.research.google.com/assets/colab-badge.svg\" alt=\"Open In Colab\"/></a>"
      ]
    },
    {
      "cell_type": "markdown",
      "source": [
        "# Installation"
      ],
      "metadata": {
        "id": "ut_hWnz9bFaJ"
      }
    },
    {
      "cell_type": "markdown",
      "source": [
        "## install the conda package manager\n",
        "\n",
        "First we need to install the conda package manager. Inside a jupyter notebook this may be done as"
      ],
      "metadata": {
        "id": "hh5f40eEbTPP"
      }
    },
    {
      "cell_type": "code",
      "source": [
        "!pip install condacolab\n",
        "import condacolab\n",
        "condacolab.install()"
      ],
      "metadata": {
        "id": "E-51VN8Da9L-"
      },
      "execution_count": null,
      "outputs": []
    },
    {
      "cell_type": "code",
      "source": [
        "import condacolab\n",
        "condacolab.check()"
      ],
      "metadata": {
        "id": "RcY26cVWbRoz"
      },
      "execution_count": null,
      "outputs": []
    },
    {
      "cell_type": "markdown",
      "source": [
        "In a shell, one may grab the latest conda package manager from [miniconda](https://docs.anaconda.com/miniconda/) or one of its clones [mamba or micromamba](https://mamba.readthedocs.io/en/latest/). Follow the installation directions found. This yields a a package manager with environments allwing you to install a host of software.\n",
        "\n",
        "Both `mamba` and `micromamba` are drop-in, open source replacements for conda but with improved package search facilities. `micromamba` is a lightweight implementation of mamba which works well for the simple case of installing software.  In the following we will use the command conda but this can always be substituted with mamba/micromamba."
      ],
      "metadata": {
        "id": "nYbsFS1Vb9U5"
      }
    },
    {
      "cell_type": "markdown",
      "source": [
        "## Install CAD_to_OpenMC\n",
        "Now we will use the package manager to install CAD_to_OpenMC"
      ],
      "metadata": {
        "id": "vnvLgpYjbvOe"
      }
    },
    {
      "cell_type": "code",
      "source": [
        "!conda install -y cad-to-openmc\n",
        "!conda install openmc=0.15.0=dagmc_*"
      ],
      "metadata": {
        "id": "NqQi5m4obWq7"
      },
      "execution_count": null,
      "outputs": []
    },
    {
      "cell_type": "markdown",
      "source": [
        "You should now have a functioning conda-environment from which you can run cad-to-openmc and OpenMC. This is done by importing the python module <code>CAD_to_OpenMC.assembly</code>.\n",
        "\n",
        "## In a shell procedure\n",
        "If outside a notebook setting you may do something similar (once conda has been installed):\n",
        "`conda create -n my_environment python=3.11`\\\n",
        "`conda activate my_environment`\\\n",
        "`conda install -y cad-to-openmc`\\\n",
        "where the name \"my_environment\" is chosen arbitrarily. Any python version between 3.9 and 3.11 inclusive works. (We're working on 3.12 and 3.13)"
      ],
      "metadata": {
        "id": "xqeGhUskbb6y"
      }
    },
    {
      "cell_type": "code",
      "source": [
        "import CAD_to_OpenMC.assembly as ab"
      ],
      "metadata": {
        "collapsed": true,
        "id": "6jA30QjbbbWI"
      },
      "execution_count": null,
      "outputs": []
    },
    {
      "cell_type": "markdown",
      "source": [
        "To get access to the Godiva_IV model we may simply clone a github repository where step-files containing both a simplifed version as well as a more detailed model of the Godiva IV device as described in the report \"cite:Godiva_IV\".\n",
        "\n",
        "There are three step-files associated with each of the reactor models. Namely the reactor core, control rod, and burst rod. There are two control rods and a single burst rod, set in a 60 deg. symmetric pattern around the vertical axis through the reactor, center.\n",
        "\n",
        "In the reactor experiments the control rods were used to set the overall working point of the reactor, and then the burst rod was used to reach criticality in short timespans, \"bursts\"."
      ],
      "metadata": {
        "id": "Bf74KPEGcpZG"
      }
    },
    {
      "cell_type": "code",
      "source": [
        "from google.colab import drive\n",
        "drive.mount('/content/drive')"
      ],
      "metadata": {
        "id": "uwCBScYhzFtI"
      },
      "execution_count": null,
      "outputs": []
    },
    {
      "cell_type": "code",
      "source": [
        " #clone the godiva repo to get access to the step-files.\n",
        " !git clone https://www.github.com/ebknudsen/godiva_iv"
      ],
      "metadata": {
        "id": "ki7xBB2VcdQA"
      },
      "execution_count": null,
      "outputs": []
    },
    {
      "cell_type": "code",
      "source": [
        "A=ab.Assembly(['/content/drive/sample_data/GIV_BR_detailed.step'])\n",
        "B=ab.Assembly(['/content/drive/sample_data/GIV_CR_detailed.step'])\n",
        "C=ab.assembly(['/content/drive/sample_data/GIV_core_detailed.step'])"
      ],
      "metadata": {
        "id": "74vuwL_gcmUv"
      },
      "execution_count": null,
      "outputs": []
    },
    {
      "cell_type": "code",
      "source": [
        "#now we run the meshing procedure on the models. At present the \"regularly\" best backend to use is the 'db'\n",
        "A.run(backend='db', h5m_filename='GIV_BR_det.h5m')\n",
        "B.run(backend='db', h5m_filename='GIV_CR_det.h5m')\n",
        "C.run(backend='db', h5m_filename='GIV_core_det.h5m')"
      ],
      "metadata": {
        "id": "2qyGvgdhwMZE"
      },
      "execution_count": null,
      "outputs": []
    },
    {
      "cell_type": "markdown",
      "source": [
        "If all is well we should now have 3 files with the suffix ',h5m' in the working directory. These files contain al the vertices and triangles of a surface mesh-approximation of the reactor model.\n",
        "\n",
        "If we examine the output from CAD_to_OpenMC we find that we have gotten reports from it about material-names, or tags, that it has attached to the various parts of the reactor,model. The material-names must coincide with the ones late inserted into the OpenMC-model.\n",
        "\n",
        "Should you wish to do so, it is possible to \"retag\" parts, during the meshing process. This is done, either by supplying a python dictionary which will use regular expressions to match material tags, or a simple python list which will simply apply tags in the order they are encountered. This is useful, in the cases where no part name-tag is found in the .step-file. N.b. this procedure triggers a complete new mashing run, which can be computationally expensive (A future version of CAD_to_OpenMC will include a retagging procedure)."
      ],
      "metadata": {
        "id": "3RQVUkuHwwEX"
      }
    },
    {
      "cell_type": "code",
      "source": [
        "#now we may start building our geometric model in openmc\n",
        "#first build the geometry loading the surfaced meshed objects into separate DAGMCUniverse-objects which may be included inside a regular CSG-style geometry"
      ],
      "metadata": {
        "id": "d5R7G4sexf4r"
      },
      "execution_count": null,
      "outputs": []
    },
    {
      "cell_type": "code",
      "source": [],
      "metadata": {
        "id": "O_y0lRAs4wkJ"
      },
      "execution_count": null,
      "outputs": []
    }
  ],
  "metadata": {
    "colab": {
      "provenance": [],
      "include_colab_link": true
    },
    "kernelspec": {
      "display_name": "Python 3",
      "name": "python3"
    }
  },
  "nbformat": 4,
  "nbformat_minor": 0
}