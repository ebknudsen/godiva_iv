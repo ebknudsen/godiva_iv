{
  "cells": [
    {
      "cell_type": "markdown",
      "metadata": {
        "id": "view-in-github",
        "colab_type": "text"
      },
      "source": [
        "<a href=\"https://colab.research.google.com/github/ebknudsen/godiva_iv/blob/notebook/cad_to_openmc_godiva_iv.ipynb\" target=\"_parent\"><img src=\"https://colab.research.google.com/assets/colab-badge.svg\" alt=\"Open In Colab\"/></a>"
      ]
    },
    {
      "cell_type": "code",
      "source": [
        "!pip install condacolab\n",
        "import condacolab\n",
        "condacolab.install()"
      ],
      "metadata": {
        "id": "E-51VN8Da9L-"
      },
      "execution_count": null,
      "outputs": []
    },
    {
      "cell_type": "code",
      "source": [
        "import condacolab\n",
        "condacolab.check()"
      ],
      "metadata": {
        "id": "RcY26cVWbRoz"
      },
      "execution_count": null,
      "outputs": []
    },
    {
      "cell_type": "code",
      "source": [
        "!conda install -y cad-to-openmc\n",
        "!conda install openmc=0.15.0=dagmc_*"
      ],
      "metadata": {
        "colab": {
          "base_uri": "https://localhost:8080/"
        },
        "id": "NqQi5m4obWq7",
        "outputId": "70c5376c-60f7-4ab9-dc51-da282f2723ac"
      },
      "execution_count": 2,
      "outputs": [
        {
          "output_type": "stream",
          "name": "stdout",
          "text": [
            "/bin/bash: line 1: conda: command not found\n"
          ]
        }
      ]
    },
    {
      "cell_type": "markdown",
      "source": [
        "You should now have a functioning conda-environment from which you can run cad-to-openmc and OpenMC. This is done by importing the python module <code>CAD_to_OpenMC.assembly</code>."
      ],
      "metadata": {
        "id": "xqeGhUskbb6y"
      }
    },
    {
      "cell_type": "code",
      "source": [
        "import CAD_to_OpenMC.assembly as ab"
      ],
      "metadata": {
        "colab": {
          "base_uri": "https://localhost:8080/",
          "height": 336
        },
        "collapsed": true,
        "id": "6jA30QjbbbWI",
        "outputId": "e7270048-9467-4c3d-88e3-cc4256bcc182"
      },
      "execution_count": 3,
      "outputs": [
        {
          "output_type": "error",
          "ename": "ModuleNotFoundError",
          "evalue": "No module named 'CAD_to_OpenMC'",
          "traceback": [
            "\u001b[0;31m---------------------------------------------------------------------------\u001b[0m",
            "\u001b[0;31mModuleNotFoundError\u001b[0m                       Traceback (most recent call last)",
            "\u001b[0;32m<ipython-input-3-f631c077a339>\u001b[0m in \u001b[0;36m<cell line: 0>\u001b[0;34m()\u001b[0m\n\u001b[0;32m----> 1\u001b[0;31m \u001b[0;32mimport\u001b[0m \u001b[0mCAD_to_OpenMC\u001b[0m\u001b[0;34m.\u001b[0m\u001b[0massembly\u001b[0m \u001b[0;32mas\u001b[0m \u001b[0mab\u001b[0m\u001b[0;34m\u001b[0m\u001b[0;34m\u001b[0m\u001b[0m\n\u001b[0m\u001b[1;32m      2\u001b[0m \u001b[0mburst_rod\u001b[0m \u001b[0;34m=\u001b[0m \u001b[0mab\u001b[0m\u001b[0;34m.\u001b[0m\u001b[0mAssembly\u001b[0m\u001b[0;34m(\u001b[0m\u001b[0;34m[\u001b[0m\u001b[0;34m''\u001b[0m\u001b[0;34m]\u001b[0m\u001b[0;34m)\u001b[0m\u001b[0;34m\u001b[0m\u001b[0;34m\u001b[0m\u001b[0m\n",
            "\u001b[0;31mModuleNotFoundError\u001b[0m: No module named 'CAD_to_OpenMC'",
            "",
            "\u001b[0;31m---------------------------------------------------------------------------\u001b[0;32m\nNOTE: If your import is failing due to a missing package, you can\nmanually install dependencies using either !pip or !apt.\n\nTo view examples of installing some common dependencies, click the\n\"Open Examples\" button below.\n\u001b[0;31m---------------------------------------------------------------------------\u001b[0m\n"
          ],
          "errorDetails": {
            "actions": [
              {
                "action": "open_url",
                "actionText": "Open Examples",
                "url": "/notebooks/snippets/importing_libraries.ipynb"
              }
            ]
          }
        }
      ]
    },
    {
      "cell_type": "markdown",
      "source": [
        "To get access to the Godiva_IV model we may simply clone a github repository where step-files containing both a simplifed version as well as a more detailed model of the Godiva IV device as described in the report \"cite:Godiva_IV\".\n",
        "\n",
        "There are three step-files associated with each of the reactor models. Namely the reactor core, control rod, and burst rod. There are two control rods and a single burst rod, set in a 60 deg. symmetric pattern around the vertical axis through the reactor, center.\n",
        "\n",
        "In the reactor experiments the control rods were used to set the overall working point of the reactor, and then the burst rod was used to reach criticality in short timespans, \"bursts\"."
      ],
      "metadata": {
        "id": "Bf74KPEGcpZG"
      }
    },
    {
      "cell_type": "code",
      "source": [
        "from google.colab import drive\n",
        "drive.mount('/content/drive')"
      ],
      "metadata": {
        "id": "uwCBScYhzFtI"
      },
      "execution_count": null,
      "outputs": []
    },
    {
      "cell_type": "code",
      "source": [
        " #clone the godiva repo to get access to the step-files.\n",
        " !git clone https://www.github.com/ebknudsen/godiva_iv"
      ],
      "metadata": {
        "colab": {
          "base_uri": "https://localhost:8080/"
        },
        "id": "ki7xBB2VcdQA",
        "outputId": "a4306756-3988-4454-81e7-b8b447398feb"
      },
      "execution_count": 5,
      "outputs": [
        {
          "output_type": "stream",
          "name": "stdout",
          "text": [
            "Cloning into 'godiva_iv'...\n",
            "fatal: could not read Username for 'https://github.com': No such device or address\n"
          ]
        }
      ]
    },
    {
      "cell_type": "code",
      "source": [
        "A=ab.Assembly(['sample_data/GIV_BR_detailed.step'])\n",
        "B=ab.Assembly(['sample_data/GIV_CR_detailed.step'])\n",
        "C=ab.assembly(['sample_data/GIV_core_detailed.step'])"
      ],
      "metadata": {
        "id": "74vuwL_gcmUv"
      },
      "execution_count": 4,
      "outputs": []
    },
    {
      "cell_type": "code",
      "source": [
        "#now we run the meshing procedure on the models. At present the \"regularly\" best backend to use is the 'db'\n",
        "A.run(backend='db', h5m_filename='GIV_BR_det.h5m')\n",
        "B.run(backend='db', h5m_filename='GIV_CR_det.h5m')\n",
        "C.run(backend='db', h5m_filename='GIV_core_det.h5m')"
      ],
      "metadata": {
        "id": "2qyGvgdhwMZE"
      },
      "execution_count": null,
      "outputs": []
    },
    {
      "cell_type": "markdown",
      "source": [
        "If all is well we should now have 3 files with the suffix ',h5m' in the working directory. These files contain al the vertices and triangles of a surface mesh-approximation of the reactor model.\n",
        "\n",
        "If we examine the output from CAD_to_OpenMC we find that we have gotten reports from it about material-names, or tags, that it has attached to the various parts of the reactor,model. The material-names must coincide with the ones late inserted into the OpenMC-model.\n",
        "\n",
        "Should you wish to do so, it is possible to \"retag\" parts, during the meshing process. This is done, either by supplying a python dictionary which will use regular expressions to match material tags, or a simple python list which will simply apply tags in the order they are encountered. This is useful, in the cases where no part name-tag is found in the .step-file. N.b. this procedure triggers a complete new mashing run, which can be computationally expensive (A future version of CAD_to_OpenMC will include a retagging procedure)."
      ],
      "metadata": {
        "id": "3RQVUkuHwwEX"
      }
    },
    {
      "cell_type": "code",
      "source": [],
      "metadata": {
        "id": "d5R7G4sexf4r"
      },
      "execution_count": null,
      "outputs": []
    }
  ],
  "metadata": {
    "colab": {
      "provenance": [],
      "include_colab_link": true
    },
    "kernelspec": {
      "display_name": "Python 3",
      "name": "python3"
    }
  },
  "nbformat": 4,
  "nbformat_minor": 0
}